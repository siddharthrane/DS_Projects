{
 "cells": [
  {
   "cell_type": "markdown",
   "id": "b0a6190b",
   "metadata": {},
   "source": [
    "<h4>Understanding the co-relation between keyword rankings with description or any other attribute.</h4>\n"
   ]
  },
  {
   "cell_type": "code",
   "execution_count": 106,
   "id": "9413fcc8",
   "metadata": {},
   "outputs": [],
   "source": [
    "import pandas as pd  #importing pandas for loading dataset and manipulating data for analysis\n"
   ]
  },
  {
   "cell_type": "code",
   "execution_count": 107,
   "id": "7e5be962",
   "metadata": {},
   "outputs": [],
   "source": [
    "df=pd.read_csv('browser_rankings_data.csv',header=1)   #reading csv file"
   ]
  },
  {
   "cell_type": "code",
   "execution_count": 108,
   "id": "da4b19cc",
   "metadata": {
    "scrolled": true
   },
   "outputs": [
    {
     "data": {
      "text/html": [
       "<div>\n",
       "<style scoped>\n",
       "    .dataframe tbody tr th:only-of-type {\n",
       "        vertical-align: middle;\n",
       "    }\n",
       "\n",
       "    .dataframe tbody tr th {\n",
       "        vertical-align: top;\n",
       "    }\n",
       "\n",
       "    .dataframe thead th {\n",
       "        text-align: right;\n",
       "    }\n",
       "</style>\n",
       "<table border=\"1\" class=\"dataframe\">\n",
       "  <thead>\n",
       "    <tr style=\"text-align: right;\">\n",
       "      <th></th>\n",
       "      <th>ID</th>\n",
       "      <th>Keyword</th>\n",
       "      <th>Rank</th>\n",
       "      <th>Country</th>\n",
       "      <th>Language</th>\n",
       "      <th>Date</th>\n",
       "      <th>App ID</th>\n",
       "      <th>Date of Last Description Change</th>\n",
       "      <th>Short Description</th>\n",
       "      <th>Long Description</th>\n",
       "    </tr>\n",
       "  </thead>\n",
       "  <tbody>\n",
       "    <tr>\n",
       "      <th>0</th>\n",
       "      <td>1</td>\n",
       "      <td>browser</td>\n",
       "      <td>2.0</td>\n",
       "      <td>in</td>\n",
       "      <td>en</td>\n",
       "      <td>2020-12-16</td>\n",
       "      <td>net.fast.web.browser</td>\n",
       "      <td>2020-12-18</td>\n",
       "      <td>The small, fastest, secure Web Browser, best m...</td>\n",
       "      <td>One of the smallest, fastest, secure Web Brows...</td>\n",
       "    </tr>\n",
       "    <tr>\n",
       "      <th>1</th>\n",
       "      <td>2</td>\n",
       "      <td>browser</td>\n",
       "      <td>3.0</td>\n",
       "      <td>in</td>\n",
       "      <td>en</td>\n",
       "      <td>2020-12-16</td>\n",
       "      <td>com.android.chrome</td>\n",
       "      <td>2020-12-18</td>\n",
       "      <td>Fast, simple, and secure. Google Chrome browse...</td>\n",
       "      <td>Google Chrome is a fast, easy to use, and secu...</td>\n",
       "    </tr>\n",
       "    <tr>\n",
       "      <th>2</th>\n",
       "      <td>3</td>\n",
       "      <td>browser</td>\n",
       "      <td>4.0</td>\n",
       "      <td>in</td>\n",
       "      <td>en</td>\n",
       "      <td>2020-12-16</td>\n",
       "      <td>com.opera.browser</td>\n",
       "      <td>2021-02-27</td>\n",
       "      <td>Fast, safe web browser: free VPN, Ad blocker, ...</td>\n",
       "      <td>Fast, safe and private, introducing the latest...</td>\n",
       "    </tr>\n",
       "    <tr>\n",
       "      <th>3</th>\n",
       "      <td>3</td>\n",
       "      <td>browser</td>\n",
       "      <td>4.0</td>\n",
       "      <td>in</td>\n",
       "      <td>en</td>\n",
       "      <td>2020-12-16</td>\n",
       "      <td>com.opera.browser</td>\n",
       "      <td>2020-12-18</td>\n",
       "      <td>Fast, safe web browser: free VPN, Ad blocker, ...</td>\n",
       "      <td>Opera is a fast, safe web browser for your And...</td>\n",
       "    </tr>\n",
       "    <tr>\n",
       "      <th>4</th>\n",
       "      <td>4</td>\n",
       "      <td>browser</td>\n",
       "      <td>1.0</td>\n",
       "      <td>in</td>\n",
       "      <td>en</td>\n",
       "      <td>2020-12-16</td>\n",
       "      <td>com.cloudmosa.puffinTV</td>\n",
       "      <td>2021-02-07</td>\n",
       "      <td>Puffin TV Browser - One App to Watch All Video...</td>\n",
       "      <td>Puffin TV Browser is a special edition of Puff...</td>\n",
       "    </tr>\n",
       "  </tbody>\n",
       "</table>\n",
       "</div>"
      ],
      "text/plain": [
       "   ID  Keyword  Rank Country Language        Date                  App ID  \\\n",
       "0   1  browser   2.0      in       en  2020-12-16    net.fast.web.browser   \n",
       "1   2  browser   3.0      in       en  2020-12-16      com.android.chrome   \n",
       "2   3  browser   4.0      in       en  2020-12-16       com.opera.browser   \n",
       "3   3  browser   4.0      in       en  2020-12-16       com.opera.browser   \n",
       "4   4  browser   1.0      in       en  2020-12-16  com.cloudmosa.puffinTV   \n",
       "\n",
       "  Date of Last Description Change  \\\n",
       "0                      2020-12-18   \n",
       "1                      2020-12-18   \n",
       "2                      2021-02-27   \n",
       "3                      2020-12-18   \n",
       "4                      2021-02-07   \n",
       "\n",
       "                                   Short Description  \\\n",
       "0  The small, fastest, secure Web Browser, best m...   \n",
       "1  Fast, simple, and secure. Google Chrome browse...   \n",
       "2  Fast, safe web browser: free VPN, Ad blocker, ...   \n",
       "3  Fast, safe web browser: free VPN, Ad blocker, ...   \n",
       "4  Puffin TV Browser - One App to Watch All Video...   \n",
       "\n",
       "                                    Long Description  \n",
       "0  One of the smallest, fastest, secure Web Brows...  \n",
       "1  Google Chrome is a fast, easy to use, and secu...  \n",
       "2  Fast, safe and private, introducing the latest...  \n",
       "3  Opera is a fast, safe web browser for your And...  \n",
       "4  Puffin TV Browser is a special edition of Puff...  "
      ]
     },
     "execution_count": 108,
     "metadata": {},
     "output_type": "execute_result"
    }
   ],
   "source": [
    "df.head()  #Going through top 5 rows for understanding the dataset"
   ]
  },
  {
   "cell_type": "code",
   "execution_count": 109,
   "id": "a5e3b306",
   "metadata": {},
   "outputs": [
    {
     "data": {
      "text/plain": [
       "3066"
      ]
     },
     "execution_count": 109,
     "metadata": {},
     "output_type": "execute_result"
    }
   ],
   "source": [
    "len(df)  #number of rows"
   ]
  },
  {
   "cell_type": "code",
   "execution_count": 110,
   "id": "34b147ff",
   "metadata": {},
   "outputs": [
    {
     "data": {
      "text/plain": [
       "Index(['ID', 'Keyword', 'Rank', 'Country', 'Language', 'Date', 'App ID',\n",
       "       'Date of Last Description Change', 'Short Description',\n",
       "       'Long Description'],\n",
       "      dtype='object')"
      ]
     },
     "execution_count": 110,
     "metadata": {},
     "output_type": "execute_result"
    }
   ],
   "source": [
    "df.columns  #listing down all columns in the dataframe"
   ]
  },
  {
   "cell_type": "code",
   "execution_count": 111,
   "id": "b6401fb6",
   "metadata": {},
   "outputs": [
    {
     "data": {
      "text/plain": [
       "array(['browser', 'android browser', 'privacy browser',\n",
       "       'privacy browsers for android', 'best privacy browsers',\n",
       "       'fast browser', 'ad free browser'], dtype=object)"
      ]
     },
     "execution_count": 111,
     "metadata": {},
     "output_type": "execute_result"
    }
   ],
   "source": [
    "df.Keyword.unique()     #understand types of keywords"
   ]
  },
  {
   "cell_type": "code",
   "execution_count": 12,
   "id": "79ea7617",
   "metadata": {},
   "outputs": [
    {
     "name": "stdout",
     "output_type": "stream",
     "text": [
      "<class 'pandas.core.frame.DataFrame'>\n",
      "RangeIndex: 3066 entries, 0 to 3065\n",
      "Data columns (total 10 columns):\n",
      " #   Column                           Non-Null Count  Dtype  \n",
      "---  ------                           --------------  -----  \n",
      " 0   ID                               3066 non-null   int64  \n",
      " 1   Keyword                          3066 non-null   object \n",
      " 2   Rank                             3050 non-null   float64\n",
      " 3   Country                          3066 non-null   object \n",
      " 4   Language                         3066 non-null   object \n",
      " 5   Date                             3066 non-null   object \n",
      " 6   App ID                           3066 non-null   object \n",
      " 7   Date of Last Description Change  3066 non-null   object \n",
      " 8   Short Description                3066 non-null   object \n",
      " 9   Long Description                 3066 non-null   object \n",
      "dtypes: float64(1), int64(1), object(8)\n",
      "memory usage: 239.7+ KB\n"
     ]
    }
   ],
   "source": [
    "df.info()      #finding if any column has missing values"
   ]
  },
  {
   "cell_type": "code",
   "execution_count": 112,
   "id": "2b080b3b",
   "metadata": {},
   "outputs": [
    {
     "data": {
      "text/plain": [
       "False    3050\n",
       "True       16\n",
       "Name: Rank, dtype: int64"
      ]
     },
     "execution_count": 112,
     "metadata": {},
     "output_type": "execute_result"
    }
   ],
   "source": [
    "#seems like there are few null values in Rank column\n",
    "df.Rank.isna().value_counts()"
   ]
  },
  {
   "cell_type": "code",
   "execution_count": 113,
   "id": "16e8af6c",
   "metadata": {},
   "outputs": [
    {
     "name": "stdout",
     "output_type": "stream",
     "text": [
      "<class 'pandas.core.frame.DataFrame'>\n",
      "Int64Index: 3050 entries, 0 to 3065\n",
      "Data columns (total 10 columns):\n",
      " #   Column                           Non-Null Count  Dtype  \n",
      "---  ------                           --------------  -----  \n",
      " 0   ID                               3050 non-null   int64  \n",
      " 1   Keyword                          3050 non-null   object \n",
      " 2   Rank                             3050 non-null   float64\n",
      " 3   Country                          3050 non-null   object \n",
      " 4   Language                         3050 non-null   object \n",
      " 5   Date                             3050 non-null   object \n",
      " 6   App ID                           3050 non-null   object \n",
      " 7   Date of Last Description Change  3050 non-null   object \n",
      " 8   Short Description                3050 non-null   object \n",
      " 9   Long Description                 3050 non-null   object \n",
      "dtypes: float64(1), int64(1), object(8)\n",
      "memory usage: 262.1+ KB\n"
     ]
    }
   ],
   "source": [
    "#there are 16 rows which dosen't have rank ,we can drop them\n",
    "df=df.dropna()\n",
    "df.info()"
   ]
  },
  {
   "cell_type": "code",
   "execution_count": 114,
   "id": "8c425435",
   "metadata": {},
   "outputs": [
    {
     "data": {
      "text/plain": [
       "count    3050.000000\n",
       "mean       15.155738\n",
       "std        24.268403\n",
       "min         1.000000\n",
       "25%         2.000000\n",
       "50%         5.000000\n",
       "75%        16.000000\n",
       "max       134.000000\n",
       "Name: Rank, dtype: float64"
      ]
     },
     "execution_count": 114,
     "metadata": {},
     "output_type": "execute_result"
    }
   ],
   "source": [
    "df.Rank.describe()  #understanding range of ranks"
   ]
  },
  {
   "cell_type": "code",
   "execution_count": 115,
   "id": "35662e51",
   "metadata": {},
   "outputs": [],
   "source": [
    "df_key=df.groupby('Keyword')   #grouping data by Keyword"
   ]
  },
  {
   "cell_type": "code",
   "execution_count": 117,
   "id": "b76286c9",
   "metadata": {},
   "outputs": [
    {
     "data": {
      "text/html": [
       "<div>\n",
       "<style scoped>\n",
       "    .dataframe tbody tr th:only-of-type {\n",
       "        vertical-align: middle;\n",
       "    }\n",
       "\n",
       "    .dataframe tbody tr th {\n",
       "        vertical-align: top;\n",
       "    }\n",
       "\n",
       "    .dataframe thead th {\n",
       "        text-align: right;\n",
       "    }\n",
       "</style>\n",
       "<table border=\"1\" class=\"dataframe\">\n",
       "  <thead>\n",
       "    <tr style=\"text-align: right;\">\n",
       "      <th></th>\n",
       "      <th>ID</th>\n",
       "      <th>Rank</th>\n",
       "      <th>Country</th>\n",
       "      <th>Language</th>\n",
       "      <th>Date</th>\n",
       "      <th>App ID</th>\n",
       "      <th>Date of Last Description Change</th>\n",
       "      <th>Short Description</th>\n",
       "      <th>Long Description</th>\n",
       "    </tr>\n",
       "    <tr>\n",
       "      <th>Keyword</th>\n",
       "      <th></th>\n",
       "      <th></th>\n",
       "      <th></th>\n",
       "      <th></th>\n",
       "      <th></th>\n",
       "      <th></th>\n",
       "      <th></th>\n",
       "      <th></th>\n",
       "      <th></th>\n",
       "    </tr>\n",
       "  </thead>\n",
       "  <tbody>\n",
       "    <tr>\n",
       "      <th>ad free browser</th>\n",
       "      <td>217</td>\n",
       "      <td>3.0</td>\n",
       "      <td>in</td>\n",
       "      <td>en</td>\n",
       "      <td>2020-12-18</td>\n",
       "      <td>com.brave.browser</td>\n",
       "      <td>2020-12-18</td>\n",
       "      <td>Free, safe internet browser! Private browsing,...</td>\n",
       "      <td>Privately browse the internet, for free! The B...</td>\n",
       "    </tr>\n",
       "    <tr>\n",
       "      <th>android browser</th>\n",
       "      <td>5</td>\n",
       "      <td>11.0</td>\n",
       "      <td>in</td>\n",
       "      <td>en</td>\n",
       "      <td>2020-12-16</td>\n",
       "      <td>net.fast.web.browser</td>\n",
       "      <td>2020-12-18</td>\n",
       "      <td>The small, fastest, secure Web Browser, best m...</td>\n",
       "      <td>One of the smallest, fastest, secure Web Brows...</td>\n",
       "    </tr>\n",
       "    <tr>\n",
       "      <th>best privacy browsers</th>\n",
       "      <td>209</td>\n",
       "      <td>2.0</td>\n",
       "      <td>in</td>\n",
       "      <td>en</td>\n",
       "      <td>2020-12-18</td>\n",
       "      <td>com.brave.browser</td>\n",
       "      <td>2020-12-18</td>\n",
       "      <td>Free, safe internet browser! Private browsing,...</td>\n",
       "      <td>Privately browse the internet, for free! The B...</td>\n",
       "    </tr>\n",
       "    <tr>\n",
       "      <th>browser</th>\n",
       "      <td>1</td>\n",
       "      <td>2.0</td>\n",
       "      <td>in</td>\n",
       "      <td>en</td>\n",
       "      <td>2020-12-16</td>\n",
       "      <td>net.fast.web.browser</td>\n",
       "      <td>2020-12-18</td>\n",
       "      <td>The small, fastest, secure Web Browser, best m...</td>\n",
       "      <td>One of the smallest, fastest, secure Web Brows...</td>\n",
       "    </tr>\n",
       "    <tr>\n",
       "      <th>fast browser</th>\n",
       "      <td>213</td>\n",
       "      <td>6.0</td>\n",
       "      <td>in</td>\n",
       "      <td>en</td>\n",
       "      <td>2020-12-18</td>\n",
       "      <td>com.brave.browser</td>\n",
       "      <td>2020-12-18</td>\n",
       "      <td>Free, safe internet browser! Private browsing,...</td>\n",
       "      <td>Privately browse the internet, for free! The B...</td>\n",
       "    </tr>\n",
       "    <tr>\n",
       "      <th>privacy browser</th>\n",
       "      <td>201</td>\n",
       "      <td>3.0</td>\n",
       "      <td>in</td>\n",
       "      <td>en</td>\n",
       "      <td>2020-12-18</td>\n",
       "      <td>com.brave.browser</td>\n",
       "      <td>2020-12-18</td>\n",
       "      <td>Free, safe internet browser! Private browsing,...</td>\n",
       "      <td>Privately browse the internet, for free! The B...</td>\n",
       "    </tr>\n",
       "    <tr>\n",
       "      <th>privacy browsers for android</th>\n",
       "      <td>205</td>\n",
       "      <td>2.0</td>\n",
       "      <td>in</td>\n",
       "      <td>en</td>\n",
       "      <td>2020-12-18</td>\n",
       "      <td>com.brave.browser</td>\n",
       "      <td>2020-12-18</td>\n",
       "      <td>Free, safe internet browser! Private browsing,...</td>\n",
       "      <td>Privately browse the internet, for free! The B...</td>\n",
       "    </tr>\n",
       "  </tbody>\n",
       "</table>\n",
       "</div>"
      ],
      "text/plain": [
       "                               ID  Rank Country Language        Date  \\\n",
       "Keyword                                                                \n",
       "ad free browser               217   3.0      in       en  2020-12-18   \n",
       "android browser                 5  11.0      in       en  2020-12-16   \n",
       "best privacy browsers         209   2.0      in       en  2020-12-18   \n",
       "browser                         1   2.0      in       en  2020-12-16   \n",
       "fast browser                  213   6.0      in       en  2020-12-18   \n",
       "privacy browser               201   3.0      in       en  2020-12-18   \n",
       "privacy browsers for android  205   2.0      in       en  2020-12-18   \n",
       "\n",
       "                                            App ID  \\\n",
       "Keyword                                              \n",
       "ad free browser                  com.brave.browser   \n",
       "android browser               net.fast.web.browser   \n",
       "best privacy browsers            com.brave.browser   \n",
       "browser                       net.fast.web.browser   \n",
       "fast browser                     com.brave.browser   \n",
       "privacy browser                  com.brave.browser   \n",
       "privacy browsers for android     com.brave.browser   \n",
       "\n",
       "                             Date of Last Description Change  \\\n",
       "Keyword                                                        \n",
       "ad free browser                                   2020-12-18   \n",
       "android browser                                   2020-12-18   \n",
       "best privacy browsers                             2020-12-18   \n",
       "browser                                           2020-12-18   \n",
       "fast browser                                      2020-12-18   \n",
       "privacy browser                                   2020-12-18   \n",
       "privacy browsers for android                      2020-12-18   \n",
       "\n",
       "                                                              Short Description  \\\n",
       "Keyword                                                                           \n",
       "ad free browser               Free, safe internet browser! Private browsing,...   \n",
       "android browser               The small, fastest, secure Web Browser, best m...   \n",
       "best privacy browsers         Free, safe internet browser! Private browsing,...   \n",
       "browser                       The small, fastest, secure Web Browser, best m...   \n",
       "fast browser                  Free, safe internet browser! Private browsing,...   \n",
       "privacy browser               Free, safe internet browser! Private browsing,...   \n",
       "privacy browsers for android  Free, safe internet browser! Private browsing,...   \n",
       "\n",
       "                                                               Long Description  \n",
       "Keyword                                                                          \n",
       "ad free browser               Privately browse the internet, for free! The B...  \n",
       "android browser               One of the smallest, fastest, secure Web Brows...  \n",
       "best privacy browsers         Privately browse the internet, for free! The B...  \n",
       "browser                       One of the smallest, fastest, secure Web Brows...  \n",
       "fast browser                  Privately browse the internet, for free! The B...  \n",
       "privacy browser               Privately browse the internet, for free! The B...  \n",
       "privacy browsers for android  Privately browse the internet, for free! The B...  "
      ]
     },
     "execution_count": 117,
     "metadata": {},
     "output_type": "execute_result"
    }
   ],
   "source": [
    "df_key.first()   #getting first row from each group"
   ]
  },
  {
   "cell_type": "markdown",
   "id": "8798da2b",
   "metadata": {},
   "source": [
    "<h3>Finding and understanding co-relation between Keyword rankings and description</h3>"
   ]
  },
  {
   "cell_type": "code",
   "execution_count": 118,
   "id": "cfb13212",
   "metadata": {},
   "outputs": [
    {
     "name": "stdout",
     "output_type": "stream",
     "text": [
      "Fast                                                                  0.444426\n",
      " and secure. Google Chrome browser for Android phones and tablets.    0.324345\n",
      " simple                                                               0.324345\n",
      " Ad blocker                                                           0.249161\n",
      " QR-code reader &amp; personalized news                               0.249161\n",
      " safe web browser: free VPN                                           0.249161\n",
      " best mobile browser                                                 -0.139758\n",
      " fast search Google.                                                 -0.139758\n",
      " fastest                                                             -0.139758\n",
      " secure Web Browser                                                  -0.139758\n",
      "The small                                                            -0.139758\n",
      "Puffin TV Browser - One App to Watch All Videos on the Web           -0.195071\n",
      "Puffin TV Browser - One App to Watch All Videos on the Web.          -0.195071\n",
      "dtype: float64\n"
     ]
    }
   ],
   "source": [
    "s_corr = df_key['Short Description'].get_group('browser').str.get_dummies(sep=',').corrwith(df.Rank/df.Rank.max())\n",
    "print (s_corr.sort_values(ascending=False))"
   ]
  },
  {
   "cell_type": "markdown",
   "id": "ba84dcc1",
   "metadata": {},
   "source": [
    "<h3>Insights from above:</h3>\n",
    "\n",
    "<h>\n",
    "<li>When the keyword with <b>browsers</b> have Fast or secure in their description it tends to have a positive correlation\n",
    "i.e rating increase when it has fast or secure word in description.</li>\n",
    "<li>When the keyword with <b>browsers</b> have small or Puffin TV Browser in their description it tends to have a negative correlation\n",
    "i.e rating decrease when it has small or Puffin TV Browser words in description.</li>\n",
    "</h>"
   ]
  },
  {
   "cell_type": "code",
   "execution_count": 119,
   "id": "6bec46c0",
   "metadata": {},
   "outputs": [
    {
     "name": "stdout",
     "output_type": "stream",
     "text": [
      " Fast &amp; data-saving browser.                  0.770290\n",
      " Football &amp; celebrity news                    0.770290\n",
      "Funny video                                       0.770290\n",
      " dark &amp; private mode.                         0.142074\n",
      " sync                                             0.142074\n",
      "Fast &amp; private web browser with ad blocker    0.142074\n",
      " safe internet browser! Private browsing         -0.352900\n",
      " search engine &amp; pop-up blocker.             -0.352900\n",
      "Free                                             -0.352900\n",
      " and escape ad trackers.                         -0.456801\n",
      " search anonymously                              -0.456801\n",
      "Browse the web privately                         -0.456801\n",
      "dtype: float64\n"
     ]
    }
   ],
   "source": [
    "s_corr = df_key['Short Description'].get_group('ad free browser').str.get_dummies(sep=',').corrwith(df.Rank/df.Rank.max())\n",
    "print (s_corr.sort_values(ascending=False))"
   ]
  },
  {
   "cell_type": "markdown",
   "id": "d85f87ad",
   "metadata": {},
   "source": [
    "<h3>Insights from above:</h3>\n",
    "\n",
    "<h>\n",
    "<li>When the keyword with <b>ad free browser</b> have Fast,data-saving browser or Football and celebrity news or Funny in their description it tends to have a positive correlation\n",
    "i.e rating increase when these words are present in the  description.</li>\n",
    "<li>When the keyword with <b>ad free browser</b> have search anonymously or Browse the web privately  in their description it tends to have a negative correlation\n",
    "i.e rating decrease when these words are in description.</li>\n",
    "</h>"
   ]
  },
  {
   "cell_type": "code",
   "execution_count": 120,
   "id": "80ab9d2e",
   "metadata": {},
   "outputs": [
    {
     "name": "stdout",
     "output_type": "stream",
     "text": [
      " and secure. Google Chrome browser for Android phones and tablets.    0.592692\n",
      " simple                                                               0.592692\n",
      " best mobile browser                                                  0.341968\n",
      " fast search Google.                                                  0.341968\n",
      " fastest                                                              0.341968\n",
      " secure Web Browser                                                   0.341968\n",
      "The small                                                             0.341968\n",
      "Fast                                                                  0.151555\n",
      "Puffin TV Browser - One App to Watch All Videos on the Web           -0.215313\n",
      "Puffin TV Browser - One App to Watch All Videos on the Web.          -0.215313\n",
      " Ad blocker                                                          -0.283232\n",
      " QR-code reader &amp; personalized news                              -0.283232\n",
      " safe web browser: free VPN                                          -0.283232\n",
      "dtype: float64\n"
     ]
    }
   ],
   "source": [
    "s_corr = df_key['Short Description'].get_group('android browser').str.get_dummies(sep=',').corrwith(df.Rank/df.Rank.max())\n",
    "print (s_corr.sort_values(ascending=False))"
   ]
  },
  {
   "cell_type": "markdown",
   "id": "b64d1d2c",
   "metadata": {},
   "source": [
    "<h3>Insights from above:</h3>\n",
    "\n",
    "<h>\n",
    "<li>When the keyword with <b>android browsers</b> have secure or simple in their description it tends to have a positive correlation\n",
    "i.e rating increase when these words are present in the  description.</li>\n",
    "<li>When the keyword with <b>android browsers</b> have Ad blocker or QR-code reader or  safe web browser: free VPN  in their description it tends to have a negative correlation\n",
    "i.e rating decrease when these words are in description.</li>\n",
    "</h>"
   ]
  },
  {
   "cell_type": "code",
   "execution_count": 121,
   "id": "61e7cd7b",
   "metadata": {},
   "outputs": [
    {
     "name": "stdout",
     "output_type": "stream",
     "text": [
      " dark &amp; private mode.                         0.902085\n",
      " sync                                             0.902085\n",
      "Fast &amp; private web browser with ad blocker    0.902085\n",
      " Fast &amp; data-saving browser.                  0.007867\n",
      " Football &amp; celebrity news                    0.007867\n",
      "Funny video                                       0.007867\n",
      " safe internet browser! Private browsing         -0.263610\n",
      " search engine &amp; pop-up blocker.             -0.263610\n",
      "Free                                             -0.263610\n",
      " and escape ad trackers.                         -0.494827\n",
      " search anonymously                              -0.494827\n",
      "Browse the web privately                         -0.494827\n",
      "dtype: float64\n"
     ]
    }
   ],
   "source": [
    "s_corr = df_key['Short Description'].get_group('best privacy browsers').str.get_dummies(sep=',').corrwith(df.Rank/df.Rank.max())\n",
    "print (s_corr.sort_values(ascending=False))"
   ]
  },
  {
   "cell_type": "markdown",
   "id": "0563218c",
   "metadata": {},
   "source": [
    "<h3>Insights from above:</h3>\n",
    "\n",
    "<h>\n",
    "<li>When the keyword with <b>best privacy browsers</b> have dark and private mode or fast or private web browser with ad blocker  in their description it tends to have a positive correlation\n",
    "i.e rating increase when these words are present in the  description.</li>\n",
    "<li>When the keyword with <b>best privacy browsers</b> have search anonymously  or Browse the web privately  in their description it tends to have a negative correlation\n",
    "i.e rating decrease when these words are in description.</li>\n",
    "</h>"
   ]
  },
  {
   "cell_type": "code",
   "execution_count": 122,
   "id": "11bb6c0a",
   "metadata": {},
   "outputs": [
    {
     "name": "stdout",
     "output_type": "stream",
     "text": [
      " dark &amp; private mode.                         0.929880\n",
      " sync                                             0.929880\n",
      "Fast &amp; private web browser with ad blocker    0.929880\n",
      " and escape ad trackers.                         -0.133076\n",
      " search anonymously                              -0.133076\n",
      "Browse the web privately                         -0.133076\n",
      " Fast &amp; data-saving browser.                 -0.345254\n",
      " Football &amp; celebrity news                   -0.345254\n",
      "Funny video                                      -0.345254\n",
      " safe internet browser! Private browsing         -0.416993\n",
      " search engine &amp; pop-up blocker.             -0.416993\n",
      "Free                                             -0.416993\n",
      "dtype: float64\n"
     ]
    }
   ],
   "source": [
    "s_corr = df_key['Short Description'].get_group('fast browser').str.get_dummies(sep=',').corrwith(df.Rank/df.Rank.max())\n",
    "print (s_corr.sort_values(ascending=False))"
   ]
  },
  {
   "cell_type": "markdown",
   "id": "e7cec988",
   "metadata": {},
   "source": [
    "<h3>Insights from above:</h3>\n",
    "\n",
    "<h>\n",
    "<li>When the keyword with <b>fast browser</b> have dark and private mode or fast or private web browser with ad blocker  in their description it tends to have a positive correlation\n",
    "i.e rating increase when these words are present in the  description.</li>\n",
    "<li>When the keyword with <b>fast browser</b> have Funny video  or safe internet browser! Private browsing or Free in their description it tends to have a negative correlation\n",
    "i.e rating decrease when these words are in description.</li>\n",
    "</h>"
   ]
  },
  {
   "cell_type": "code",
   "execution_count": 123,
   "id": "bab3533c",
   "metadata": {},
   "outputs": [
    {
     "name": "stdout",
     "output_type": "stream",
     "text": [
      " dark &amp; private mode.                         0.924487\n",
      " sync                                             0.924487\n",
      "Fast &amp; private web browser with ad blocker    0.924487\n",
      " Fast &amp; data-saving browser.                  0.018766\n",
      " Football &amp; celebrity news                    0.018766\n",
      "Funny video                                       0.018766\n",
      " safe internet browser! Private browsing         -0.298301\n",
      " search engine &amp; pop-up blocker.             -0.298301\n",
      "Free                                             -0.298301\n",
      " and escape ad trackers.                         -0.523049\n",
      " search anonymously                              -0.523049\n",
      "Browse the web privately                         -0.523049\n",
      "dtype: float64\n"
     ]
    }
   ],
   "source": [
    "s_corr = df_key['Short Description'].get_group('privacy browser').str.get_dummies(sep=',').corrwith(df.Rank/df.Rank.max())\n",
    "print (s_corr.sort_values(ascending=False))"
   ]
  },
  {
   "cell_type": "markdown",
   "id": "3d63274b",
   "metadata": {},
   "source": [
    "<h3>Insights from above:</h3>\n",
    "\n",
    "<h>\n",
    "<li>When the keyword with <b>privacy browser</b> have dark and private mode or fast or private web browser with ad blocker  in their description it tends to have a positive correlation\n",
    "i.e rating increase when these words are present in the  description.</li>\n",
    "<li>When the keyword with <b>privacy browser</b> have search anonymously or Browse the web privately in their description it tends to have a negative correlation\n",
    "i.e rating decrease when these words are in description.</li>\n",
    "</h>"
   ]
  },
  {
   "cell_type": "code",
   "execution_count": 124,
   "id": "2360daa0",
   "metadata": {},
   "outputs": [
    {
     "name": "stdout",
     "output_type": "stream",
     "text": [
      " dark &amp; private mode.                         0.911774\n",
      " sync                                             0.911774\n",
      "Fast &amp; private web browser with ad blocker    0.911774\n",
      " Fast &amp; data-saving browser.                  0.020364\n",
      " Football &amp; celebrity news                    0.020364\n",
      "Funny video                                       0.020364\n",
      " safe internet browser! Private browsing         -0.288450\n",
      " search engine &amp; pop-up blocker.             -0.288450\n",
      "Free                                             -0.288450\n",
      " and escape ad trackers.                         -0.507585\n",
      " search anonymously                              -0.507585\n",
      "Browse the web privately                         -0.507585\n",
      "dtype: float64\n"
     ]
    }
   ],
   "source": [
    "s_corr = df_key['Short Description'].get_group('privacy browsers for android').str.get_dummies(sep=',').corrwith(df.Rank/df.Rank.max())\n",
    "print (s_corr.sort_values(ascending=False))"
   ]
  },
  {
   "cell_type": "markdown",
   "id": "38df796c",
   "metadata": {},
   "source": [
    "<h3>Insights from above:</h3>\n",
    "\n",
    "<h>\n",
    "<li>When the keyword with <b>privacy browsers for android</b> have dark and private mode or fast or private web browser with ad blocker  in their description it tends to have a positive correlation\n",
    "i.e rating increase when these words are present in the  description.</li>\n",
    "<li>When the keyword with <b>privacy browsers for android</b> have search anonymously or Browse the web privately in their description it tends to have a negative correlation\n",
    "i.e rating decrease when these words are in description.</li>\n",
    "</h>"
   ]
  },
  {
   "cell_type": "markdown",
   "id": "16b5b468",
   "metadata": {},
   "source": [
    "<h4>Question</h4>\n",
    "<h5>Does APP ID (Also known as package name) play any role in ranking?  \n",
    "</h5>"
   ]
  },
  {
   "cell_type": "code",
   "execution_count": 144,
   "id": "8b1c714f",
   "metadata": {},
   "outputs": [],
   "source": [
    "import seaborn as sns  #importing seaborn for visualization"
   ]
  },
  {
   "cell_type": "code",
   "execution_count": 126,
   "id": "93552ddc",
   "metadata": {},
   "outputs": [
    {
     "data": {
      "text/plain": [
       "array(['net.fast.web.browser', 'com.android.chrome', 'com.opera.browser',\n",
       "       'com.cloudmosa.puffinTV', 'com.brave.browser',\n",
       "       'com.vivaldi.browser', 'com.duckduckgo.mobile.android',\n",
       "       'com.transsion.phoenix'], dtype=object)"
      ]
     },
     "execution_count": 126,
     "metadata": {},
     "output_type": "execute_result"
    }
   ],
   "source": [
    "df['App ID'].unique()    #understanding App ID column values"
   ]
  },
  {
   "cell_type": "markdown",
   "id": "afb1e3c2",
   "metadata": {},
   "source": [
    "<h4>Getting co-relation between App ID's and Rank</h4>"
   ]
  },
  {
   "cell_type": "code",
   "execution_count": 151,
   "id": "d90f828f",
   "metadata": {},
   "outputs": [
    {
     "name": "stdout",
     "output_type": "stream",
     "text": [
      "com.vivaldi.browser              0.775795\n",
      "com.transsion.phoenix            0.165066\n",
      "com.android.chrome              -0.051519\n",
      "net.fast.web.browser            -0.083249\n",
      "com.opera.browser               -0.141335\n",
      "com.duckduckgo.mobile.android   -0.181225\n",
      "com.brave.browser               -0.183369\n",
      "com.cloudmosa.puffinTV          -0.233195\n",
      "dtype: float64\n"
     ]
    }
   ],
   "source": [
    "s_corr = df['App ID'].str.get_dummies().corrwith(df.Rank/df.Rank.max())\n",
    "print (s_corr.sort_values(ascending=False))"
   ]
  },
  {
   "cell_type": "code",
   "execution_count": 152,
   "id": "9107fb01",
   "metadata": {},
   "outputs": [
    {
     "data": {
      "image/png": "[encoded data removed]",
      "text/plain": [
       "<Figure size 432x288 with 1 Axes>"
      ]
     },
     "metadata": {
      "needs_background": "light"
     },
     "output_type": "display_data"
    }
   ],
   "source": [
    "#understanding trend of App ID with Rank\n",
    "sc=sns.scatterplot(x=df['App ID'],y=df['Rank'])\n",
    "sc.tick_params(axis='x',labelrotation=90)"
   ]
  },
  {
   "cell_type": "markdown",
   "id": "f18568cd",
   "metadata": {},
   "source": [
    "<h3>Insights from above:</h3>\n",
    "\n",
    "<h>\n",
    "<li>The App ID as <b>com.vivaldi.browser</b> tend to have best ratings</li>\n",
    "<li>The App ID as <b>com.brave.browser and com.opera.browser</b> tend to have poor ratings</li>\n",
    "</h>"
   ]
  }
 ],
 "metadata": {
  "kernelspec": {
   "display_name": "Python 3 (ipykernel)",
   "language": "python",
   "name": "python3"
  },
  "language_info": {
   "codemirror_mode": {
    "name": "ipython",
    "version": 3
   },
   "file_extension": ".py",
   "mimetype": "text/x-python",
   "name": "python",
   "nbconvert_exporter": "python",
   "pygments_lexer": "ipython3",
   "version": "3.9.7"
  }
 },
 "nbformat": 4,
 "nbformat_minor": 5
}
